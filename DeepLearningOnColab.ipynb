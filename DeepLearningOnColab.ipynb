{
  "nbformat": 4,
  "nbformat_minor": 0,
  "metadata": {
    "colab": {
      "name": "DeepLearningOnColab.ipynb",
      "provenance": [],
      "authorship_tag": "ABX9TyNuk51nI4PCi3tVO557GuTN",
      "include_colab_link": true
    },
    "kernelspec": {
      "name": "python3",
      "display_name": "Python 3"
    },
    "accelerator": "GPU"
  },
  "cells": [
    {
      "cell_type": "markdown",
      "metadata": {
        "id": "view-in-github",
        "colab_type": "text"
      },
      "source": [
        "<a href=\"https://colab.research.google.com/github/WalterYeYint/First-Colab-Test/blob/master/DeepLearningOnColab.ipynb\" target=\"_parent\"><img src=\"https://colab.research.google.com/assets/colab-badge.svg\" alt=\"Open In Colab\"/></a>"
      ]
    },
    {
      "cell_type": "code",
      "metadata": {
        "id": "YHLxp7pCbXnG",
        "colab_type": "code",
        "outputId": "cf156302-7c43-4030-9dc9-e27f4127d81c",
        "colab": {
          "base_uri": "https://localhost:8080/",
          "height": 124
        }
      },
      "source": [
        "from google.colab import drive\n",
        "drive.mount('/content/drive/')"
      ],
      "execution_count": 0,
      "outputs": [
        {
          "output_type": "stream",
          "text": [
            "Go to this URL in a browser: https://accounts.google.com/o/oauth2/auth?client_id=947318989803-6bn6qk8qdgf4n4g3pfee6491hc0brc4i.apps.googleusercontent.com&redirect_uri=urn%3aietf%3awg%3aoauth%3a2.0%3aoob&response_type=code&scope=email%20https%3a%2f%2fwww.googleapis.com%2fauth%2fdocs.test%20https%3a%2f%2fwww.googleapis.com%2fauth%2fdrive%20https%3a%2f%2fwww.googleapis.com%2fauth%2fdrive.photos.readonly%20https%3a%2f%2fwww.googleapis.com%2fauth%2fpeopleapi.readonly\n",
            "\n",
            "Enter your authorization code:\n",
            "··········\n",
            "Mounted at /content/drive/\n"
          ],
          "name": "stdout"
        }
      ]
    },
    {
      "cell_type": "code",
      "metadata": {
        "id": "QvtGaSLbb9Xu",
        "colab_type": "code",
        "outputId": "23c80944-2936-4fdf-e4cc-8d4a0bd40bda",
        "colab": {
          "base_uri": "https://localhost:8080/",
          "height": 1000
        }
      },
      "source": [
        "!ls \"/content/drive/My Drive/\""
      ],
      "execution_count": 0,
      "outputs": [
        {
          "output_type": "stream",
          "text": [
            " 259246271-Digital-Signal-Processing-Solution-Manual-3rd-Edition-by-Mitra.pdf\n",
            "'2nd draft to apply (1).gdoc'\n",
            "'2nd draft to apply (2).gdoc'\n",
            "'2nd draft to apply (3).gdoc'\n",
            "'2nd draft to apply (4).gdoc'\n",
            "'2nd draft to apply.docx'\n",
            "'2nd draft to apply.gdoc'\n",
            "'5th-yr-project-proposal (1).docx'\n",
            " 5th-yr-project-proposal.docx\n",
            " 5th-yr-project-proposal.gdoc\n",
            "'Advanced Electronics'\n",
            "'AE Lab'\n",
            "'Application Layer Security.gslides'\n",
            "'Application Layer Security.pptx'\n",
            "'Assignment for public'\n",
            "'Automation Technologies Lab.pptx'\n",
            " basic-invoice.xlsx\n",
            " Brain_Tumor\n",
            " CA\n",
            " CashFlow.gsheet\n",
            " codejam-master\n",
            " codetest\n",
            " codetestnew\n",
            "'Colab Draft'\n",
            "'Colab Notebooks'\n",
            " Combined.docx\n",
            " Combined.gdoc\n",
            " Combined.odt\n",
            "'Commu Presentation.gslides'\n",
            "'Commu Presentation.pptx'\n",
            "'Contiki Hands On.gdoc'\n",
            "'Control Asgn'\n",
            "'Control Lab 2'\n",
            " COR\n",
            "'CS(Complete).gdoc'\n",
            "'CV (Latest).gdoc'\n",
            "'CVs and Proposals'\n",
            " cv-template-monster-new.docx\n",
            "'DIP presentation.gslides'\n",
            " dog.asm\n",
            " doppler\n",
            "'Doppler Data (1).docx'\n",
            "'Doppler Data.docx'\n",
            "'Doppler Data.gdoc'\n",
            " downloadfile-2.bin\n",
            " downloadfile-5.pdf\n",
            " downloadfile.docx\n",
            " Draft.pdf\n",
            " Draft_to_apply.docx\n",
            " Draft_to_apply.gdoc\n",
            "'E3S-VS1E4 Analysis Report.gdoc'\n",
            " FaultyPC.docx\n",
            " FaultyPC.gdoc\n",
            " FaultyPC.odt\n",
            " Files\n",
            "'Financial Aid for capstone autonomous runway detection.gdoc'\n",
            "'Financial Aid for CPP.gdoc'\n",
            "'Financial Aid for Deeplearning.gdoc'\n",
            "'Financial Aid Proposal.gdoc'\n",
            "'For PPM.gdoc'\n",
            " Google-Codejam-Kickstart-Round-A-2017-master\n",
            "'How to get started with Drive.pdf'\n",
            "'IDP Budget Table.gsheet'\n",
            "'IDP Flow 0.png'\n",
            "'IDP Flow 2.drawio'\n",
            "'IDP Flow 3.drawio'\n",
            "'IDP Flow 3.png'\n",
            "'IDP Flow.drawio'\n",
            "'IDP Flow.png'\n",
            "'IDP Presentation.gslides'\n",
            "'IDP (Update)'\n",
            " IMG_20180904_063552.jpg\n",
            " IMG_20180904_063603.jpg\n",
            "'IMG_20180905_211553 (1).jpg'\n",
            " IMG_20180905_211553.jpg\n",
            " IMG_20180912_035526.jpg\n",
            "'Intern Presentation.pptx'\n",
            "'Internship Report ( To Continue).docx'\n",
            "'James May.docx'\n",
            "'James May.gdoc'\n",
            "'Key Stages In The Installation.docx'\n",
            "'Lab cover template.docx'\n",
            " lazy.asm\n",
            "'Lecture 2.gslides'\n",
            " Linux.gdoc\n",
            " Linux.odt\n",
            "'Log Periodic Antenna (1)'\n",
            "'Log Periodic Antenna.gslides'\n",
            "'LORA Lab Equipment List.gsheet'\n",
            "'Maaya_Sakamoto_-_Mada_Ugoku_GHOST_IN_THE_SHELL_Shingekijouban_OST19_AnimeNewMusic_(mp3.pm)-1.mp3'\n",
            "'Management LCC.gsheet'\n",
            "'Management Presentation.gslides'\n",
            "'Nay Htet LinVI Ec-6 Thesis proposal latest version.docx'\n",
            "'New Cashflow.gsheet'\n",
            "'new pi-home-surveillance'\n",
            "'new pi-home-surveillance (latest)'\n",
            "'new pi-home-surveillance (update)'\n",
            "'new pi-home-surveillance (Wed)'\n",
            " OQ2.pdf\n",
            " OQs.pdf\n",
            "'pan_tilt_tracking (1).py.gdoc'\n",
            "'pan_tilt_tracking (2).py.gdoc'\n",
            " pan_tilt_tracking.py.gdoc\n",
            " project\n",
            "'Questions for components.gdoc'\n",
            " received_2248900125340905.jpeg\n",
            " ReceiverT1.ino\n",
            "'Report for Factory Visit.gdoc'\n",
            "'Si Thu (OOP Assignment).odt'\n",
            "'stability_test (1).m.gdoc'\n",
            " stability_test.m.gdoc\n",
            "'THANT ZIN AUNG_00177845_DD00CP_GA'\n",
            "'Thant Zin (OOP Assignment).gdoc'\n",
            "'Thant Zin (OOP Assignment).odt'\n",
            "'Theme Park Website (1).gdoc'\n",
            "'Theme Park Website.docx'\n",
            "'Theme Park Website.gdoc'\n",
            " Thesis\n",
            "'Thesis Defense Presentation.gslides'\n",
            " Thyristors2.docx\n",
            " Thyristors.docx\n",
            " Thyristors.odt\n",
            "'TitleDefense_MayMyatThiriSan(VIEC-9)-2.pptx'\n",
            " TransmitterT1.ino\n",
            "'Tun Lin Yaung.gdoc'\n",
            "'Tun Lin Yaung Pic.gdraw'\n",
            "'twilio no'\n",
            "'Untitled Diagram (1).drawio'\n",
            " Untitled-Diagram1.jpg\n",
            " Untitled-Diagram1.xml\n",
            "'Untitled Diagram.drawio'\n",
            "'Untitled document.gdoc'\n",
            "'UP_Exp_3.docx;filename= UTF-8'\\'''\\''UP Exp 3.docx'\n",
            "'WBS (Management).drawio'\n",
            "'Work Package 1 (Management).drawio'\n",
            "'Work Package 2 (Management).drawio'\n",
            "'Ye Yint Thu (VEC-17) Uni format CV.docx'\n",
            "'YYT- Optical Amplifier.gslides'\n"
          ],
          "name": "stdout"
        }
      ]
    },
    {
      "cell_type": "code",
      "metadata": {
        "id": "yBfcbuAtcZ5a",
        "colab_type": "code",
        "outputId": "0b74ea09-6d2e-4245-8aa0-9db48006944a",
        "colab": {
          "base_uri": "https://localhost:8080/",
          "height": 81
        }
      },
      "source": [
        "import tensorflow as tf\n",
        "tf.test.gpu_device_name()"
      ],
      "execution_count": 0,
      "outputs": [
        {
          "output_type": "display_data",
          "data": {
            "text/html": [
              "<p style=\"color: red;\">\n",
              "The default version of TensorFlow in Colab will soon switch to TensorFlow 2.x.<br>\n",
              "We recommend you <a href=\"https://www.tensorflow.org/guide/migrate\" target=\"_blank\">upgrade</a> now \n",
              "or ensure your notebook will continue to use TensorFlow 1.x via the <code>%tensorflow_version 1.x</code> magic:\n",
              "<a href=\"https://colab.research.google.com/notebooks/tensorflow_version.ipynb\" target=\"_blank\">more info</a>.</p>\n"
            ],
            "text/plain": [
              "<IPython.core.display.HTML object>"
            ]
          },
          "metadata": {
            "tags": []
          }
        },
        {
          "output_type": "execute_result",
          "data": {
            "text/plain": [
              "'/device:GPU:0'"
            ]
          },
          "metadata": {
            "tags": []
          },
          "execution_count": 3
        }
      ]
    }
  ]
}